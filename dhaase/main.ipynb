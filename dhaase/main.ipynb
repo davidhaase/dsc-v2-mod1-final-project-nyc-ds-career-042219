{
 "cells": [
  {
   "cell_type": "code",
   "execution_count": 26,
   "metadata": {},
   "outputs": [],
   "source": [
    "import pandas as pd\n",
    "import numpy as np\n",
    "\n",
    "# class Cleaner():\n",
    "#     def __init__(self, data_file):\n",
    "#         self.data_file=data_file\n",
    "#         self.df=None\n",
    "        \n",
    "#     def load_data(self, data_file=''):\n",
    "#         ret_val = False\n",
    "        \n",
    "#         #If a new file is passed, use that one\n",
    "#         #Otherwise, use the original\n",
    "#         if data_file == '':\n",
    "#             data_file = self.data_file\n",
    "#         try:\n",
    "#             self.df = pd.read_csv(data_file)\n",
    "#             ret_val = True\n",
    "#         except Exception as e:\n",
    "#             print(e)\n",
    "            \n",
    "#         return ret_val\n",
    "        \n",
    "# if __name__ == '__main__':\n",
    "    \n",
    "#     data_file = 'kc_house_data.csv'\n",
    "\n",
    "#     HS = Cleaner(data_file)\n",
    "#     HS.load_data()\n",
    "\n",
    "#     row_max = len(HouseSales.df.index)\n",
    "#     print(row_max)"
   ]
  },
  {
   "cell_type": "code",
   "execution_count": 56,
   "metadata": {},
   "outputs": [
    {
     "data": {
      "text/plain": [
       "0    7\n",
       "1    7\n",
       "2    6\n",
       "3    7\n",
       "4    8\n",
       "Name: grade, dtype: int64"
      ]
     },
     "execution_count": 56,
     "metadata": {},
     "output_type": "execute_result"
    }
   ],
   "source": [
    "data_file = 'kc_house_data.csv'\n",
    "def load_and_clean(data_file):\n",
    "    ret_val = None\n",
    "    try:\n",
    "        data = pd.read_csv(data_file)\n",
    "        ret_val = data\n",
    "    except Exception as e:\n",
    "        print(e)\n",
    "    \n",
    "#     pd.to_datetime(data.date)\n",
    "#     print(data.date.head())\n",
    "    return ret_val\n",
    "    \n",
    "df = load_and_clean(data_file)\n",
    "df['grade'].head()"
   ]
  },
  {
   "cell_type": "code",
   "execution_count": null,
   "metadata": {},
   "outputs": [],
   "source": []
  }
 ],
 "metadata": {
  "kernelspec": {
   "display_name": "learn-env",
   "language": "python",
   "name": "learn-env"
  },
  "language_info": {
   "codemirror_mode": {
    "name": "ipython",
    "version": 3
   },
   "file_extension": ".py",
   "mimetype": "text/x-python",
   "name": "python",
   "nbconvert_exporter": "python",
   "pygments_lexer": "ipython3",
   "version": "3.6.6"
  }
 },
 "nbformat": 4,
 "nbformat_minor": 2
}
