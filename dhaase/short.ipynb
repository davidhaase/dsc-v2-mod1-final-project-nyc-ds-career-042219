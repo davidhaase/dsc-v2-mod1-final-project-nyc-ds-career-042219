{
 "cells": [
  {
   "cell_type": "code",
   "execution_count": null,
   "metadata": {},
   "outputs": [],
   "source": []
  },
  {
   "cell_type": "code",
   "execution_count": null,
   "metadata": {},
   "outputs": [],
   "source": []
  },
  {
   "cell_type": "code",
   "execution_count": 1,
   "metadata": {},
   "outputs": [],
   "source": [
    "# import libraries\n",
    "import pandas as pd\n",
    "import numpy as np\n",
    "import math as mt\n",
    "import matplotlib.pyplot as plt\n",
    "%matplotlib inline\n",
    "import statsmodels.api as sm\n",
    "import statsmodels.formula.api as smf\n",
    "import scipy.stats as stats\n",
    "from sklearn.linear_model import LinearRegression"
   ]
  },
  {
   "cell_type": "code",
   "execution_count": 11,
   "metadata": {},
   "outputs": [
    {
     "name": "stdout",
     "output_type": "stream",
     "text": [
      "<class 'pandas.core.frame.DataFrame'>\n",
      "RangeIndex: 21597 entries, 0 to 21596\n",
      "Data columns (total 21 columns):\n",
      "id               21597 non-null int64\n",
      "date             21597 non-null object\n",
      "price            21597 non-null float64\n",
      "bedrooms         21597 non-null int64\n",
      "bathrooms        21597 non-null float64\n",
      "sqft_living      21597 non-null int64\n",
      "sqft_lot         21597 non-null int64\n",
      "floors           21597 non-null float64\n",
      "waterfront       19221 non-null float64\n",
      "view             21534 non-null float64\n",
      "condition        21597 non-null int64\n",
      "grade            21597 non-null int64\n",
      "sqft_above       21597 non-null int64\n",
      "sqft_basement    21597 non-null object\n",
      "yr_built         21597 non-null int64\n",
      "yr_renovated     17755 non-null float64\n",
      "zipcode          21597 non-null int64\n",
      "lat              21597 non-null float64\n",
      "long             21597 non-null float64\n",
      "sqft_living15    21597 non-null int64\n",
      "sqft_lot15       21597 non-null int64\n",
      "dtypes: float64(8), int64(11), object(2)\n",
      "memory usage: 3.5+ MB\n"
     ]
    }
   ],
   "source": [
    "try:\n",
    "    df = pd.read_csv(data_file)\n",
    "except Exception as e:\n",
    "    print(e) \n",
    "df.info()"
   ]
  },
  {
   "cell_type": "code",
   "execution_count": 2,
   "metadata": {},
   "outputs": [],
   "source": [
    "# Utilities\n",
    "def to_dollars(value):\n",
    "    return '${:,.2f}'.format(value)\n",
    "\n",
    "def d_from_l(center, target, kms=True):\n",
    "    \n",
    "    # Converted from https://andrew.hedges.name/experiments/haversine/    \n",
    "    if kms:\n",
    "        R = 6373\n",
    "    else:\n",
    "        R = 3961\n",
    "    \n",
    "    dlon = target[1] - center[1] \n",
    "    dlat = target[0] - center[0] \n",
    "    a = (mt.sin(dlat/2))^2 + mt.cos(lat1) * mt.cos(lat2) * (mt.sin(dlon/2))^2 \n",
    "    c = 2 * mt.atan2( mt.sqrt(a), mt.sqrt(1-a) ) \n",
    "    d = R * c\n",
    "    return d\n",
    "\n",
    "def get_data(data_file):\n",
    "    try:\n",
    "        data = pd.read_csv(data_file)\n",
    "    except Exception as e:\n",
    "        print(e) \n",
    "    return data\n",
    "\n",
    "def get_clean_data(data):\n",
    "    columns = ['id', 'date', 'price', 'bedrooms', 'bathrooms', 'sqft_living',\n",
    "    'sqft_lot', 'floors', 'waterfront', 'view', 'condition', 'grade',\n",
    "    'sqft_above', 'sqft_basement', 'yr_built', 'yr_renovated', 'zipcode',\n",
    "    'lat', 'long', 'sqft_living15', 'sqft_lot15']\n",
    "\n",
    "\n",
    "# flr_dummies = pd.get_dummies(data[\"floors\"], prefix=\"flr\")\n",
    "#     data = pd.concat([data.loc[:,'price':'floors'], flr_dummies], axis=1)\n",
    "#     data.drop('floors', axis=1, inplace = True)\n",
    "#     data.head()\n",
    "    \n",
    "    data.date = pd.to_datetime(data.date, format='%m/%d/%Y')\n",
    "#     return pd.concat([data.loc[:,'price':'floors'], data.date], axis=1) \n",
    "#     return data.loc[:,'price':'floors']\n",
    "    \n",
    "    return data.drop(['id', 'date', 'sqft_basement'], axis=1)\n",
    "#     tried = ['sqft_lot15', 'sqft_living15', 'long','lat', 'zipcode', 'yr_built']\n",
    "\n",
    "# def transform_data(dat):\n",
    "#     import pandas as pd\n",
    "#     import numpy as np\n",
    "#     data = pd.read_csv(\"auto-mpg.csv\") \n",
    "#     data['horsepower'].astype(str).astype(int)\n",
    "\n",
    "#     acc = data[\"acceleration\"]\n",
    "#     logdisp = np.log(data[\"displacement\"])\n",
    "#     loghorse = np.log(data[\"horsepower\"])\n",
    "#     logweight= np.log(data[\"weight\"])\n",
    "\n",
    "#     scaled_acc = (acc-min(acc))/(max(acc)-min(acc))\t\n",
    "#     scaled_disp = (logdisp-np.mean(logdisp))/np.sqrt(np.var(logdisp))\n",
    "#     scaled_horse = (loghorse-np.mean(loghorse))/(max(loghorse)-min(loghorse))\n",
    "#     scaled_weight= (logweight-np.mean(logweight))/np.sqrt(np.var(logweight))\n",
    "\n",
    "#     data_fin = pd.DataFrame([])\n",
    "#     data_fin[\"acc\"]= scaled_acc\n",
    "#     data_fin[\"disp\"]= scaled_disp\n",
    "#     data_fin[\"horse\"] = scaled_horse\n",
    "#     data_fin[\"weight\"] = scaled_weight\n",
    "#     cyl_dummies = pd.get_dummies(data[\"cylinders\"], prefix=\"cyl\")\n",
    "#     yr_dummies = pd.get_dummies(data[\"model year\"], prefix=\"yr\")\n",
    "#     orig_dummies = pd.get_dummies(data[\"origin\"], prefix=\"orig\")\n",
    "#     mpg = data[\"mpg\"]\n",
    "#     data_fin = pd.concat([mpg, data_fin, cyl_dummies, yr_dummies, orig_dummies], axis=1)\n",
    "\n",
    "\n",
    "def split_data(data, sample):\n",
    "    cutoff = int(len(data)*sample)\n",
    "    return (data[:cutoff],data[cutoff:])\n",
    "\n",
    "def split_target(data, col_name):\n",
    "    return data[col_name], data.drop(col_name, axis=1)"
   ]
  },
  {
   "cell_type": "code",
   "execution_count": 8,
   "metadata": {},
   "outputs": [
    {
     "name": "stdout",
     "output_type": "stream",
     "text": [
      "Index(['id', 'date', 'price', 'bedrooms', 'bathrooms', 'sqft_living',\n",
      "       'sqft_lot', 'floors', 'waterfront', 'view', 'condition', 'grade',\n",
      "       'sqft_above', 'sqft_basement', 'yr_built', 'yr_renovated', 'zipcode',\n",
      "       'lat', 'long', 'sqft_living15', 'sqft_lot15'],\n",
      "      dtype='object')\n"
     ]
    },
    {
     "data": {
      "text/plain": [
       "count     21597\n",
       "unique      304\n",
       "top         0.0\n",
       "freq      12826\n",
       "Name: sqft_basement, dtype: object"
      ]
     },
     "execution_count": 8,
     "metadata": {},
     "output_type": "execute_result"
    }
   ],
   "source": [
    "data_file = 'kc_house_data.csv'\n",
    "df = get_data(data_file)\n",
    "print(df.columns)\n",
    "df.sqft_basement.describe()"
   ]
  },
  {
   "cell_type": "code",
   "execution_count": null,
   "metadata": {},
   "outputs": [],
   "source": [
    "# Define your project variables\n",
    "data_file = 'kc_house_data.csv'\n",
    "sample_percent = 0.8\n",
    "\n",
    "#Scrape, clean and split the data into two sets\n",
    "(df, test_df) = split_data(get_clean_data(get_data(data_file)), sample_percent)\n",
    "\n",
    "#Split the columns into target and features for OLS\n",
    "y, X = split_target(df, 'price')"
   ]
  },
  {
   "cell_type": "code",
   "execution_count": null,
   "metadata": {},
   "outputs": [],
   "source": [
    "for column in df:\n",
    "    df[column].plot.hist(density=True, label = column+' histogram')\n",
    "    df[column].plot.kde(label=column+' kde')\n",
    "    plt.legend()\n",
    "    plt.show()"
   ]
  },
  {
   "cell_type": "code",
   "execution_count": null,
   "metadata": {},
   "outputs": [],
   "source": [
    "df.bas"
   ]
  },
  {
   "cell_type": "code",
   "execution_count": null,
   "metadata": {},
   "outputs": [],
   "source": [
    "X_int = sm.add_constant(X)\n",
    "model = sm.OLS(y,X_int).fit()\n",
    "model.summary()"
   ]
  },
  {
   "cell_type": "code",
   "execution_count": null,
   "metadata": {},
   "outputs": [],
   "source": []
  },
  {
   "cell_type": "code",
   "execution_count": null,
   "metadata": {},
   "outputs": [],
   "source": []
  }
 ],
 "metadata": {
  "kernelspec": {
   "display_name": "learn-env",
   "language": "python",
   "name": "learn-env"
  },
  "language_info": {
   "codemirror_mode": {
    "name": "ipython",
    "version": 3
   },
   "file_extension": ".py",
   "mimetype": "text/x-python",
   "name": "python",
   "nbconvert_exporter": "python",
   "pygments_lexer": "ipython3",
   "version": "3.6.6"
  }
 },
 "nbformat": 4,
 "nbformat_minor": 2
}
